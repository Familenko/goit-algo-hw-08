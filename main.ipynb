{
 "cells": [
  {
   "cell_type": "markdown",
   "metadata": {},
   "source": [
    "# Завдання 1"
   ]
  },
  {
   "cell_type": "markdown",
   "metadata": {},
   "source": [
    "Є декілька мережевих кабелів різної довжини, їх потрібно об'єднати по два за раз в один кабель, використовуючи з'єднувачі, у порядку, який призведе до найменших витрат. Витрати на з'єднання двох кабелів дорівнюють їхній сумі довжин, а загальні витрати дорівнюють сумі з'єднання всіх кабелів.\n",
    "Завдання полягає в тому, щоб знайти порядок об'єднання, який мінімізує загальні витрати."
   ]
  },
  {
   "cell_type": "markdown",
   "metadata": {},
   "source": [
    "## найефективніший метод"
   ]
  },
  {
   "cell_type": "code",
   "execution_count": 38,
   "metadata": {},
   "outputs": [
    {
     "name": "stdout",
     "output_type": "stream",
     "text": [
      "first 1 second 2\n",
      "combined 3\n",
      "cables [3, 4, 8, 16]\n",
      "first 3 second 4\n",
      "combined 7\n",
      "cables [7, 16, 8]\n",
      "first 7 second 8\n",
      "combined 15\n",
      "cables [15, 16]\n",
      "first 15 second 16\n",
      "combined 31\n",
      "cables [31]\n",
      "56\n"
     ]
    }
   ],
   "source": [
    "import heapq\n",
    "\n",
    "def min_cost_to_connect_cables(cables):\n",
    "    heapq.heapify(cables)\n",
    "    total_cost = 0\n",
    "    \n",
    "    while len(cables) > 1:\n",
    "        first = heapq.heappop(cables)\n",
    "        second = heapq.heappop(cables)\n",
    "\n",
    "        print('first', first, 'second', second)\n",
    "        combined = first + second\n",
    "        print('combined', combined)\n",
    "        \n",
    "        total_cost += combined\n",
    "\n",
    "        heapq.heappush(cables, combined)\n",
    "        print('cables', cables)\n",
    "    \n",
    "    return total_cost\n",
    "\n",
    "cables = [1, 4, 2, 16, 8]\n",
    "print(min_cost_to_connect_cables(cables))"
   ]
  },
  {
   "cell_type": "markdown",
   "metadata": {},
   "source": [
    "## найгірнишй спосіб"
   ]
  },
  {
   "cell_type": "code",
   "execution_count": 39,
   "metadata": {},
   "outputs": [
    {
     "name": "stdout",
     "output_type": "stream",
     "text": [
      "first 16 second 8\n",
      "combined 24\n",
      "cables [24, 4, 2, 1]\n",
      "first 24 second 4\n",
      "combined 28\n",
      "cables [28, 1, 2]\n",
      "first 28 second 2\n",
      "combined 30\n",
      "cables [30, 1]\n",
      "first 30 second 1\n",
      "combined 31\n",
      "cables [31]\n",
      "113\n"
     ]
    }
   ],
   "source": [
    "import heapq\n",
    "\n",
    "def min_cost_to_connect_cables(cables):\n",
    "    cables = [-cable for cable in cables]\n",
    "    heapq.heapify(cables)\n",
    "    \n",
    "    total_cost = 0\n",
    "    \n",
    "    while len(cables) > 1:\n",
    "        first = -heapq.heappop(cables)\n",
    "        second = -heapq.heappop(cables)\n",
    "\n",
    "        print('first', first, 'second', second)\n",
    "        combined = first + second\n",
    "        print('combined', combined)\n",
    "        \n",
    "        total_cost += combined\n",
    "\n",
    "        heapq.heappush(cables, -combined)\n",
    "        print('cables', [-cable for cable in cables])\n",
    "    \n",
    "    return total_cost\n",
    "\n",
    "cables = [1, 4, 2, 16, 8]\n",
    "print(min_cost_to_connect_cables(cables))"
   ]
  },
  {
   "cell_type": "markdown",
   "metadata": {},
   "source": [
    "# Завдання 2"
   ]
  },
  {
   "cell_type": "markdown",
   "metadata": {},
   "source": [
    "Дано k відсортованих списків цілих чисел. Ваше завдання — об'єднати їх у один відсортований список. Тепер при виконанні завдання ви повинні використати мінімальну купу для ефективного злиття кількох відсортованих списків в один відсортований список. Реалізуйте функцію merge_k_lists, яка приймає на вхід список відсортованих списків та повертає відсортований список."
   ]
  },
  {
   "cell_type": "code",
   "execution_count": 40,
   "metadata": {},
   "outputs": [],
   "source": [
    "import heapq\n",
    "\n",
    "\n",
    "def merge_k_lists(lists):\n",
    "    lists = sum(lists, [])\n",
    "    heapq.heapify(lists)\n",
    "    lists = [heapq.heappop(lists) for _ in range(len(lists))]\n",
    "\n",
    "    return lists"
   ]
  },
  {
   "cell_type": "code",
   "execution_count": 41,
   "metadata": {},
   "outputs": [
    {
     "name": "stdout",
     "output_type": "stream",
     "text": [
      "Відсортований список: [1, 1, 2, 3, 4, 4, 5, 6]\n"
     ]
    }
   ],
   "source": [
    "lists = [[1, 4, 5], [1, 3, 4], [2, 6]]\n",
    "merged_list = merge_k_lists(lists)\n",
    "print(\"Відсортований список:\", merged_list)"
   ]
  }
 ],
 "metadata": {
  "kernelspec": {
   "display_name": "Python 3",
   "language": "python",
   "name": "python3"
  },
  "language_info": {
   "codemirror_mode": {
    "name": "ipython",
    "version": 3
   },
   "file_extension": ".py",
   "mimetype": "text/x-python",
   "name": "python",
   "nbconvert_exporter": "python",
   "pygments_lexer": "ipython3",
   "version": "3.11.3"
  }
 },
 "nbformat": 4,
 "nbformat_minor": 2
}
